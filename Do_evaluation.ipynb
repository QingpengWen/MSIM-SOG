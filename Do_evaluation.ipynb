{
 "cells": [
  {
   "cell_type": "markdown",
   "id": "b53b30a5",
   "metadata": {},
   "source": [
    "# Model evaluation file for jupyter users\n",
    "\n",
    "This file enables model evaluation to be run directly in jupyter, by default on the \"**CAIS**\" dataset"
   ]
  },
  {
   "cell_type": "code",
   "execution_count": null,
   "id": "4843abcf",
   "metadata": {},
   "outputs": [],
   "source": [
    "%run train.py"
   ]
  },
  {
   "cell_type": "markdown",
   "id": "1f47bb44",
   "metadata": {},
   "source": [
    "To evaluate the model for the \"**SMP-ECDT**\" dataset, please change the path to \"**save_ecdt**\" in the \"**config.py**\" file, and return here to re-run the file."
   ]
  }
 ],
 "metadata": {
  "kernelspec": {
   "display_name": "Python 3 (ipykernel)",
   "language": "python",
   "name": "python3"
  },
  "language_info": {
   "codemirror_mode": {
    "name": "ipython",
    "version": 3
   },
   "file_extension": ".py",
   "mimetype": "text/x-python",
   "name": "python",
   "nbconvert_exporter": "python",
   "pygments_lexer": "ipython3",
   "version": "3.7.10"
  }
 },
 "nbformat": 4,
 "nbformat_minor": 5
}
